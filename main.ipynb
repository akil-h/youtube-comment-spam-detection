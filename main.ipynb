{
 "cells": [
  {
   "cell_type": "code",
   "execution_count": 40,
   "metadata": {},
   "outputs": [
    {
     "ename": "ModuleNotFoundError",
     "evalue": "No module named 'torch'",
     "output_type": "error",
     "traceback": [
      "\u001b[0;31m---------------------------------------------------------------------------\u001b[0m",
      "\u001b[0;31mModuleNotFoundError\u001b[0m                       Traceback (most recent call last)",
      "\u001b[0;32m/var/folders/pl/jj87skw96cbcsdl_06122bwr0000gn/T/ipykernel_81960/1850743682.py\u001b[0m in \u001b[0;36m<module>\u001b[0;34m\u001b[0m\n\u001b[1;32m      2\u001b[0m \u001b[0;32mimport\u001b[0m \u001b[0mnumpy\u001b[0m \u001b[0;32mas\u001b[0m \u001b[0mnp\u001b[0m\u001b[0;34m\u001b[0m\u001b[0;34m\u001b[0m\u001b[0m\n\u001b[1;32m      3\u001b[0m \u001b[0;32mimport\u001b[0m \u001b[0mnltk\u001b[0m\u001b[0;34m\u001b[0m\u001b[0;34m\u001b[0m\u001b[0m\n\u001b[0;32m----> 4\u001b[0;31m \u001b[0;32mimport\u001b[0m \u001b[0mtorch\u001b[0m\u001b[0;34m\u001b[0m\u001b[0;34m\u001b[0m\u001b[0m\n\u001b[0m\u001b[1;32m      5\u001b[0m \u001b[0;32mfrom\u001b[0m \u001b[0mtransformers\u001b[0m \u001b[0;32mimport\u001b[0m \u001b[0mBertTokenizer\u001b[0m\u001b[0;34m\u001b[0m\u001b[0;34m\u001b[0m\u001b[0m\n\u001b[1;32m      6\u001b[0m \u001b[0;32mfrom\u001b[0m \u001b[0mtransformers\u001b[0m \u001b[0;32mimport\u001b[0m \u001b[0mBertModel\u001b[0m\u001b[0;34m\u001b[0m\u001b[0;34m\u001b[0m\u001b[0m\n",
      "\u001b[0;31mModuleNotFoundError\u001b[0m: No module named 'torch'"
     ]
    }
   ],
   "source": [
    "import pandas as pd\n",
    "import numpy as np\n",
    "from transformers import BertTokenizer\n",
    "from transformers import BertModel"
   ]
  },
  {
   "cell_type": "markdown",
   "metadata": {},
   "source": [
    "## EDA"
   ]
  },
  {
   "cell_type": "code",
   "execution_count": 28,
   "metadata": {},
   "outputs": [
    {
     "data": {
      "text/html": [
       "<div>\n",
       "<style scoped>\n",
       "    .dataframe tbody tr th:only-of-type {\n",
       "        vertical-align: middle;\n",
       "    }\n",
       "\n",
       "    .dataframe tbody tr th {\n",
       "        vertical-align: top;\n",
       "    }\n",
       "\n",
       "    .dataframe thead th {\n",
       "        text-align: right;\n",
       "    }\n",
       "</style>\n",
       "<table border=\"1\" class=\"dataframe\">\n",
       "  <thead>\n",
       "    <tr style=\"text-align: right;\">\n",
       "      <th></th>\n",
       "      <th>COMMENT_ID</th>\n",
       "      <th>AUTHOR</th>\n",
       "      <th>DATE</th>\n",
       "      <th>CONTENT</th>\n",
       "      <th>VIDEO_NAME</th>\n",
       "      <th>CLASS</th>\n",
       "    </tr>\n",
       "  </thead>\n",
       "  <tbody>\n",
       "    <tr>\n",
       "      <th>0</th>\n",
       "      <td>1</td>\n",
       "      <td>Brandon Pryor</td>\n",
       "      <td>2014-01-19 00:36:25</td>\n",
       "      <td>I dont even watch it anymore i just come here ...</td>\n",
       "      <td>PSY - GANGNAM STYLE(?????) M/V</td>\n",
       "      <td>0</td>\n",
       "    </tr>\n",
       "    <tr>\n",
       "      <th>1</th>\n",
       "      <td>2</td>\n",
       "      <td>Chelsea Yun</td>\n",
       "      <td>2015-05-23 07:17:09.691</td>\n",
       "      <td>i hate rap﻿</td>\n",
       "      <td>Eminem - Love The Way You Lie ft. Rihanna</td>\n",
       "      <td>0</td>\n",
       "    </tr>\n",
       "    <tr>\n",
       "      <th>2</th>\n",
       "      <td>3</td>\n",
       "      <td>Sofia Aristizabal</td>\n",
       "      <td>2014-09-09 00:43:52</td>\n",
       "      <td>I loved, she is amazing.. OMG your eyes*_*﻿</td>\n",
       "      <td>Katy Perry - Roar</td>\n",
       "      <td>0</td>\n",
       "    </tr>\n",
       "    <tr>\n",
       "      <th>3</th>\n",
       "      <td>4</td>\n",
       "      <td>said abdesalam</td>\n",
       "      <td>2015-05-24 07:35:13.754</td>\n",
       "      <td>song is bad﻿</td>\n",
       "      <td>Eminem - Love The Way You Lie ft. Rihanna</td>\n",
       "      <td>0</td>\n",
       "    </tr>\n",
       "    <tr>\n",
       "      <th>4</th>\n",
       "      <td>5</td>\n",
       "      <td>crazy girl</td>\n",
       "      <td>2015-05-23 23:26:05.305</td>\n",
       "      <td>tension⤴︎⤴︎﻿</td>\n",
       "      <td>LMFAO - Party Rock Anthem ft. Lauren Bennett, ...</td>\n",
       "      <td>0</td>\n",
       "    </tr>\n",
       "  </tbody>\n",
       "</table>\n",
       "</div>"
      ],
      "text/plain": [
       "   COMMENT_ID             AUTHOR                     DATE  \\\n",
       "0           1      Brandon Pryor      2014-01-19 00:36:25   \n",
       "1           2        Chelsea Yun  2015-05-23 07:17:09.691   \n",
       "2           3  Sofia Aristizabal      2014-09-09 00:43:52   \n",
       "3           4     said abdesalam  2015-05-24 07:35:13.754   \n",
       "4           5         crazy girl  2015-05-23 23:26:05.305   \n",
       "\n",
       "                                             CONTENT  \\\n",
       "0  I dont even watch it anymore i just come here ...   \n",
       "1                                        i hate rap﻿   \n",
       "2        I loved, she is amazing.. OMG your eyes*_*﻿   \n",
       "3                                       song is bad﻿   \n",
       "4                                       tension⤴︎⤴︎﻿   \n",
       "\n",
       "                                          VIDEO_NAME  CLASS  \n",
       "0                     PSY - GANGNAM STYLE(?????) M/V      0  \n",
       "1          Eminem - Love The Way You Lie ft. Rihanna      0  \n",
       "2                                  Katy Perry - Roar      0  \n",
       "3          Eminem - Love The Way You Lie ft. Rihanna      0  \n",
       "4  LMFAO - Party Rock Anthem ft. Lauren Bennett, ...      0  "
      ]
     },
     "execution_count": 28,
     "metadata": {},
     "output_type": "execute_result"
    }
   ],
   "source": [
    "# Import data\n",
    "train_df = pd.read_csv('train.csv')\n",
    "train_df.head() # shape is (1369, 6)"
   ]
  },
  {
   "cell_type": "code",
   "execution_count": 30,
   "metadata": {},
   "outputs": [
    {
     "name": "stdout",
     "output_type": "stream",
     "text": [
      "<class 'pandas.core.frame.DataFrame'>\n",
      "RangeIndex: 1369 entries, 0 to 1368\n",
      "Data columns (total 6 columns):\n",
      " #   Column      Non-Null Count  Dtype \n",
      "---  ------      --------------  ----- \n",
      " 0   COMMENT_ID  1369 non-null   int64 \n",
      " 1   AUTHOR      1369 non-null   object\n",
      " 2   DATE        1199 non-null   object\n",
      " 3   CONTENT     1369 non-null   object\n",
      " 4   VIDEO_NAME  1369 non-null   object\n",
      " 5   CLASS       1369 non-null   int64 \n",
      "dtypes: int64(2), object(4)\n",
      "memory usage: 64.3+ KB\n"
     ]
    }
   ],
   "source": [
    "train_df.info()"
   ]
  },
  {
   "cell_type": "code",
   "execution_count": 35,
   "metadata": {},
   "outputs": [
    {
     "data": {
      "text/plain": [
       "0"
      ]
     },
     "execution_count": 35,
     "metadata": {},
     "output_type": "execute_result"
    }
   ],
   "source": [
    "# Check for NANs\n",
    "sum(train_df.CONTENT.isna()) # none"
   ]
  },
  {
   "cell_type": "markdown",
   "metadata": {},
   "source": [
    "## Preprocessing"
   ]
  },
  {
   "cell_type": "markdown",
   "metadata": {},
   "source": [
    "To be completely honest, if we're using BERT then there's no need to remove stopwords because BERT is bidirectional"
   ]
  },
  {
   "cell_type": "markdown",
   "metadata": {},
   "source": [
    "# Prediction"
   ]
  },
  {
   "cell_type": "code",
   "execution_count": 20,
   "metadata": {},
   "outputs": [
    {
     "data": {
      "text/html": [
       "<div>\n",
       "<style scoped>\n",
       "    .dataframe tbody tr th:only-of-type {\n",
       "        vertical-align: middle;\n",
       "    }\n",
       "\n",
       "    .dataframe tbody tr th {\n",
       "        vertical-align: top;\n",
       "    }\n",
       "\n",
       "    .dataframe thead th {\n",
       "        text-align: right;\n",
       "    }\n",
       "</style>\n",
       "<table border=\"1\" class=\"dataframe\">\n",
       "  <thead>\n",
       "    <tr style=\"text-align: right;\">\n",
       "      <th></th>\n",
       "      <th>COMMENT_ID</th>\n",
       "      <th>AUTHOR</th>\n",
       "      <th>DATE</th>\n",
       "      <th>CONTENT</th>\n",
       "      <th>VIDEO_NAME</th>\n",
       "    </tr>\n",
       "  </thead>\n",
       "  <tbody>\n",
       "    <tr>\n",
       "      <th>0</th>\n",
       "      <td>1370</td>\n",
       "      <td>tyler sleetway</td>\n",
       "      <td>2013-10-05 00:57:25.078</td>\n",
       "      <td>so beutiful</td>\n",
       "      <td>Shakira - Waka Waka</td>\n",
       "    </tr>\n",
       "    <tr>\n",
       "      <th>1</th>\n",
       "      <td>1371</td>\n",
       "      <td>Young Hittaz</td>\n",
       "      <td>2014-01-19 04:21:11</td>\n",
       "      <td>everyone please come check our newest song in ...</td>\n",
       "      <td>PSY - GANGNAM STYLE(?????) M/V</td>\n",
       "    </tr>\n",
       "    <tr>\n",
       "      <th>2</th>\n",
       "      <td>1372</td>\n",
       "      <td>WeMuckAround</td>\n",
       "      <td>2014-08-16 20:59:28</td>\n",
       "      <td>katy perry will u sit on my face please. it wo...</td>\n",
       "      <td>Katy Perry - Roar</td>\n",
       "    </tr>\n",
       "    <tr>\n",
       "      <th>3</th>\n",
       "      <td>1373</td>\n",
       "      <td>DanteBTV</td>\n",
       "      <td>NaN</td>\n",
       "      <td>Check Out The New Hot Video By Dante B Called ...</td>\n",
       "      <td>Eminem - Love The Way You Lie ft. Rihanna</td>\n",
       "    </tr>\n",
       "    <tr>\n",
       "      <th>4</th>\n",
       "      <td>1374</td>\n",
       "      <td>Sheila Cenabre</td>\n",
       "      <td>2014-08-19 12:33:11</td>\n",
       "      <td>I really love this video.. http://www.bubblews...</td>\n",
       "      <td>Katy Perry - Roar</td>\n",
       "    </tr>\n",
       "  </tbody>\n",
       "</table>\n",
       "</div>"
      ],
      "text/plain": [
       "   COMMENT_ID          AUTHOR                     DATE  \\\n",
       "0        1370  tyler sleetway  2013-10-05 00:57:25.078   \n",
       "1        1371    Young Hittaz      2014-01-19 04:21:11   \n",
       "2        1372    WeMuckAround      2014-08-16 20:59:28   \n",
       "3        1373        DanteBTV                      NaN   \n",
       "4        1374  Sheila Cenabre      2014-08-19 12:33:11   \n",
       "\n",
       "                                             CONTENT  \\\n",
       "0                                        so beutiful   \n",
       "1  everyone please come check our newest song in ...   \n",
       "2  katy perry will u sit on my face please. it wo...   \n",
       "3  Check Out The New Hot Video By Dante B Called ...   \n",
       "4  I really love this video.. http://www.bubblews...   \n",
       "\n",
       "                                  VIDEO_NAME  \n",
       "0                        Shakira - Waka Waka  \n",
       "1             PSY - GANGNAM STYLE(?????) M/V  \n",
       "2                          Katy Perry - Roar  \n",
       "3  Eminem - Love The Way You Lie ft. Rihanna  \n",
       "4                          Katy Perry - Roar  "
      ]
     },
     "execution_count": 20,
     "metadata": {},
     "output_type": "execute_result"
    }
   ],
   "source": [
    "test_df = pd.read_csv('test.csv')\n",
    "test_df.head() # shape is (587, 5)"
   ]
  }
 ],
 "metadata": {
  "kernelspec": {
   "display_name": "base",
   "language": "python",
   "name": "python3"
  },
  "language_info": {
   "codemirror_mode": {
    "name": "ipython",
    "version": 3
   },
   "file_extension": ".py",
   "mimetype": "text/x-python",
   "name": "python",
   "nbconvert_exporter": "python",
   "pygments_lexer": "ipython3",
   "version": "3.9.13"
  }
 },
 "nbformat": 4,
 "nbformat_minor": 2
}
